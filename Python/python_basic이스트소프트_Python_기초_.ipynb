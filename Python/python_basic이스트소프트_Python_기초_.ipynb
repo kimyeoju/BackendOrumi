{
  "nbformat": 4,
  "nbformat_minor": 0,
  "metadata": {
    "colab": {
      "provenance": [],
      "authorship_tag": "ABX9TyM+tMsXafUCsmTObREqum53",
      "include_colab_link": true
    },
    "kernelspec": {
      "name": "python3",
      "display_name": "Python 3"
    },
    "language_info": {
      "name": "python"
    }
  },
  "cells": [
    {
      "cell_type": "markdown",
      "metadata": {
        "id": "view-in-github",
        "colab_type": "text"
      },
      "source": [
        "<a href=\"https://colab.research.google.com/github/kimyeoju/backendorumi/blob/main/%EC%9D%B4%EC%8A%A4%ED%8A%B8%EC%86%8C%ED%94%84%ED%8A%B8_Python_%EA%B8%B0%EC%B4%88_.ipynb\" target=\"_parent\"><img src=\"https://colab.research.google.com/assets/colab-badge.svg\" alt=\"Open In Colab\"/></a>"
      ]
    },
    {
      "cell_type": "markdown",
      "source": [
        "# Python 기본"
      ],
      "metadata": {
        "id": "-WWx0RmFtPE1"
      }
    },
    {
      "cell_type": "markdown",
      "source": [
        "파이썬\n",
        "- 2점대, 3점대\n",
        "- 2점대로 서비스 운영 -> 서포트 중지\n",
        " - 인코딩\n",
        " - 함수들, 기능들 ...\n",
        "- 현재 실습 환경: 3점대"
      ],
      "metadata": {
        "id": "zLAc-h05teiQ"
      }
    },
    {
      "cell_type": "code",
      "execution_count": null,
      "metadata": {
        "id": "C1bq69p60wA0",
        "colab": {
          "base_uri": "https://localhost:8080/"
        },
        "outputId": "554ca8ac-4929-4e7f-a328-26c8d7a2250f"
      },
      "outputs": [
        {
          "output_type": "stream",
          "name": "stdout",
          "text": [
            "Python 3.10.12\n"
          ]
        }
      ],
      "source": [
        "! python --version"
      ]
    },
    {
      "cell_type": "markdown",
      "source": [
        "# 주석\n",
        "- 한 줄 주석: #\n",
        "- 여러 줄 주석: ''' ''', \"\"\" \"\"\"\n",
        "- 에디터 단축키 : ctrl, cmd + /\n",
        "- 주석을 남길 때 에러 발생하지 않게 하기\n"
      ],
      "metadata": {
        "id": "ml_zgsotuX40"
      }
    },
    {
      "cell_type": "code",
      "source": [
        "def add(num1,num2):\n",
        "    '''\n",
        "    숫자 합을 구하는 함수입니다.\n",
        "    '''\n",
        "    return num1 + num2\n",
        "\n",
        "print(add(1,2))"
      ],
      "metadata": {
        "colab": {
          "base_uri": "https://localhost:8080/"
        },
        "id": "dbpwZBdTuoNl",
        "outputId": "bf23abff-2cb8-4596-a0b6-d56905fa9284"
      },
      "execution_count": null,
      "outputs": [
        {
          "output_type": "stream",
          "name": "stdout",
          "text": [
            "3\n"
          ]
        }
      ]
    },
    {
      "cell_type": "code",
      "source": [
        "# 함수 안의 주석은 들여쓰기를 해주어야 오류가 발생하지 않음\n",
        "def add2(num1,num2):\n",
        "'''\n",
        "숫자 합을 구하는 함수입니다.\n",
        "'''\n",
        "    return num1 + num2\n",
        "\n",
        "print(add(1,2))"
      ],
      "metadata": {
        "id": "WuP7za0hu18j"
      },
      "execution_count": null,
      "outputs": []
    },
    {
      "cell_type": "markdown",
      "source": [
        "# 변수\n",
        "\n",
        "- 변수: 변할 수 있는 값 -> 소문자 (상수 -> 대문자로 선언)\n",
        "- 상자 -> 값을 담아줄 수 있다. -> 변수를 선언한다.\n",
        "- var = 1 (할당 연산자) / ==\n",
        "- 변수 값을 가리키는 것\n",
        "\n",
        "변수 이름\n",
        "- _(언더바)나 영문자로 시작해야합니다.\n",
        "- 숫자로 시작할 수 없습니다.\n",
        "- 특수문자(언더바 제외)는 사용할 수 없습니다.\n",
        "- add num -> add_num (addNum)\n",
        "- 예약어로 변수명을 사용할 수 없습니다. (for, it..)\n",
        "- 이 규칙을 지키지 않을 경우 오류가 발생하기도 합니다.\n",
        "\n",
        "변수 선언\n",
        "- 변수를 선언할 때 값을 넣어주어야 합니다.\n",
        "- 변수 선언 시, 값을 넣어주는 것 -> 자료형 자체가 지정된다.\n",
        "- 변수 = 값 -> 왼쪽에는 무조건 변수, 오른쪽에는 값, 변수, 수식, 함수 등\n",
        "\n",
        "변수 타입\n",
        "- int, float, string, bool\n",
        "- type(변수명)\n",
        "\n"
      ],
      "metadata": {
        "id": "TQlCq0X4vfR4"
      }
    },
    {
      "cell_type": "code",
      "source": [
        "book = 'weniv'\n",
        "type(book)"
      ],
      "metadata": {
        "colab": {
          "base_uri": "https://localhost:8080/"
        },
        "id": "4_9Q6Kh1xmJv",
        "outputId": "03a176a2-e150-4cbf-8321-33dfea4e6066"
      },
      "execution_count": null,
      "outputs": [
        {
          "output_type": "execute_result",
          "data": {
            "text/plain": [
              "str"
            ]
          },
          "metadata": {},
          "execution_count": 6
        }
      ]
    },
    {
      "cell_type": "code",
      "source": [
        "# 변수 연속 할당\n",
        "\n",
        "var1 = var2 = var3 = var4 = 10"
      ],
      "metadata": {
        "colab": {
          "base_uri": "https://localhost:8080/"
        },
        "id": "RmiTc8kRyZbn",
        "outputId": "77a2b184-b8c6-4a3c-9c01-693b8d5451e8"
      },
      "execution_count": null,
      "outputs": [
        {
          "output_type": "stream",
          "name": "stdout",
          "text": [
            "10\n"
          ]
        }
      ]
    },
    {
      "cell_type": "code",
      "source": [
        "print(var1)"
      ],
      "metadata": {
        "colab": {
          "base_uri": "https://localhost:8080/"
        },
        "id": "rX47ZnSKylAe",
        "outputId": "9491be8a-99cf-47a8-994b-c18a32e16ad9"
      },
      "execution_count": null,
      "outputs": [
        {
          "output_type": "stream",
          "name": "stdout",
          "text": [
            "10\n"
          ]
        }
      ]
    },
    {
      "cell_type": "code",
      "source": [
        "print(id(var1))\n",
        "print(id(var2))\n",
        "print(id(var3))\n",
        "print(id(var4))\n",
        "# 파이썬에서는 정수형(int) 중에서 자주 사용될 것 같은 값들은 미리 메모리에 올려두고\n",
        "# 메모리를 효율적으로 사용하기 위해서 같은 위치를 사용합니다.\n",
        "# 변수 자체는 다르지만 같은 위치를 가리킨다. -> 메모리의 효율성을 위해 !!"
      ],
      "metadata": {
        "colab": {
          "base_uri": "https://localhost:8080/"
        },
        "id": "PoO5_TgSymds",
        "outputId": "9576034b-ab4e-4240-eda1-8a3de80f2bfc"
      },
      "execution_count": null,
      "outputs": [
        {
          "output_type": "stream",
          "name": "stdout",
          "text": [
            "140450792047120\n",
            "140450792047120\n",
            "140450792047120\n",
            "140450792047120\n"
          ]
        }
      ]
    },
    {
      "cell_type": "code",
      "source": [
        "# 변수 연산 결과를 다시 사용하기\n",
        "x1 = 10\n",
        "x1 = x1 + 10\n",
        "\n",
        "x2 = 20\n",
        "x2 = x2 + x2"
      ],
      "metadata": {
        "id": "rEV9yvhLzRo2"
      },
      "execution_count": null,
      "outputs": []
    },
    {
      "cell_type": "code",
      "source": [
        "print(x1)"
      ],
      "metadata": {
        "colab": {
          "base_uri": "https://localhost:8080/"
        },
        "id": "G-p6CEbtzdN9",
        "outputId": "57132a3c-a0aa-48c7-bfc2-c445a857c5ac"
      },
      "execution_count": null,
      "outputs": [
        {
          "output_type": "stream",
          "name": "stdout",
          "text": [
            "20\n"
          ]
        }
      ]
    },
    {
      "cell_type": "code",
      "source": [
        "print(x2)"
      ],
      "metadata": {
        "colab": {
          "base_uri": "https://localhost:8080/"
        },
        "id": "wJ-CLADpzedp",
        "outputId": "928fb033-d5f4-4586-8535-02de0854b78e"
      },
      "execution_count": null,
      "outputs": [
        {
          "output_type": "stream",
          "name": "stdout",
          "text": [
            "40\n"
          ]
        }
      ]
    },
    {
      "cell_type": "code",
      "source": [
        "x3 = 20"
      ],
      "metadata": {
        "id": "PD5Cj0jXzmRX"
      },
      "execution_count": null,
      "outputs": []
    },
    {
      "cell_type": "code",
      "source": [
        "print(id(x1))\n",
        "print(id(x3))\n",
        "\n",
        "# x1과 x3 아이디가 같다 그치만 같은 변수가 아님\n",
        "# 미리 20이라는 값을 메모리에 올려두는 것"
      ],
      "metadata": {
        "colab": {
          "base_uri": "https://localhost:8080/"
        },
        "id": "cwqepwyazn85",
        "outputId": "fd679379-48d0-4746-ee58-d7346229e96d"
      },
      "execution_count": null,
      "outputs": [
        {
          "output_type": "stream",
          "name": "stdout",
          "text": [
            "140450792047440\n",
            "140450792047440\n"
          ]
        }
      ]
    },
    {
      "cell_type": "markdown",
      "source": [
        "# 자료형"
      ],
      "metadata": {
        "id": "lsACQN5j0X1y"
      }
    },
    {
      "cell_type": "markdown",
      "source": [
        "## 숫자형\n",
        "\n",
        "- int, float(, complex)\n",
        "- int: 정수(10진수), 2진수, 8진수, 16진수\n",
        "- float : 실수\n",
        "- complex: 복소수"
      ],
      "metadata": {
        "id": "5s_cGeb00aV_"
      }
    },
    {
      "cell_type": "markdown",
      "source": [
        "### int"
      ],
      "metadata": {
        "id": "ibwxURGaQ2Pn"
      }
    },
    {
      "cell_type": "code",
      "source": [
        "int_a = 30\n",
        "int_b = 0b100\n",
        "int_c = 0o56\n",
        "int_d = 0xAC"
      ],
      "metadata": {
        "id": "AoNYUYUV0SRS"
      },
      "execution_count": null,
      "outputs": []
    },
    {
      "cell_type": "code",
      "source": [
        "print(type(int_a))\n",
        "print(type(int_b))\n",
        "print(type(int_c))\n",
        "print(type(int_d))"
      ],
      "metadata": {
        "colab": {
          "base_uri": "https://localhost:8080/"
        },
        "id": "9p0lvCNh1H4L",
        "outputId": "b65ee09e-ff2d-4485-c5ef-a255427f03ce"
      },
      "execution_count": null,
      "outputs": [
        {
          "output_type": "stream",
          "name": "stdout",
          "text": [
            "<class 'int'>\n",
            "<class 'int'>\n",
            "<class 'int'>\n",
            "<class 'int'>\n"
          ]
        }
      ]
    },
    {
      "cell_type": "markdown",
      "source": [
        "### float"
      ],
      "metadata": {
        "id": "D_YFYHcOQ6QI"
      }
    },
    {
      "cell_type": "code",
      "source": [
        "float_a = 3.14"
      ],
      "metadata": {
        "id": "GjZLVj3J1Nde"
      },
      "execution_count": null,
      "outputs": []
    },
    {
      "cell_type": "code",
      "source": [
        "print(type(float_a))"
      ],
      "metadata": {
        "colab": {
          "base_uri": "https://localhost:8080/"
        },
        "id": "SRA0sflJ1PqG",
        "outputId": "3ce1b6e9-a065-44d7-fee1-77e6f6dc02ac"
      },
      "execution_count": null,
      "outputs": [
        {
          "output_type": "stream",
          "name": "stdout",
          "text": [
            "<class 'float'>\n"
          ]
        }
      ]
    },
    {
      "cell_type": "code",
      "source": [
        "com_a = 4-4j"
      ],
      "metadata": {
        "id": "LQVbI3IQ1R2c"
      },
      "execution_count": null,
      "outputs": []
    },
    {
      "cell_type": "markdown",
      "source": [
        "### complex"
      ],
      "metadata": {
        "id": "7eUDywM6Q8tU"
      }
    },
    {
      "cell_type": "code",
      "source": [
        "print(type(com_a))"
      ],
      "metadata": {
        "colab": {
          "base_uri": "https://localhost:8080/"
        },
        "id": "3vlo81JD1XOr",
        "outputId": "f28474a2-a186-42d9-f50c-ce4418cfb0d4"
      },
      "execution_count": null,
      "outputs": [
        {
          "output_type": "stream",
          "name": "stdout",
          "text": [
            "<class 'complex'>\n"
          ]
        }
      ]
    },
    {
      "cell_type": "markdown",
      "source": [
        "### 연산자\n",
        "\n",
        "- 연산자: 산술연산자, 대입연산자(할당연산자), 비교연산자, 논리연산자, 비트연산자, 멤버연산자, 식별연산자"
      ],
      "metadata": {
        "id": "d4GHsh903znr"
      }
    },
    {
      "cell_type": "markdown",
      "source": [
        "#### 산술연산자\n",
        "\n",
        "- 덧셈 뺄셈, 곱셈, 나눗셈, 제곱, 몫, 나머지"
      ],
      "metadata": {
        "id": "hsy4ZlXa4J9y"
      }
    },
    {
      "cell_type": "code",
      "source": [
        "num1 = 25\n",
        "num2 = 40\n",
        "print(num1 + num2)\n",
        "print(num1 - num2)\n",
        "print(num1 * num2)\n",
        "print(num1 / num2) # 나누기 -> 실수값으로 몫을 최대한 구한다.\n",
        "print(num1 // num2) # 몫 -> 정수부분까지만\n",
        "print(num1 % num2) # 정수부분까지 몫을 구한 뒤, 그 나머지\n",
        "print(num1 ** num2)"
      ],
      "metadata": {
        "colab": {
          "base_uri": "https://localhost:8080/"
        },
        "id": "keqsTfAK4IR-",
        "outputId": "5afd8551-3fa6-4dc3-cada-09497546d384"
      },
      "execution_count": null,
      "outputs": [
        {
          "output_type": "stream",
          "name": "stdout",
          "text": [
            "65\n",
            "-15\n",
            "1000\n",
            "0.625\n",
            "0\n",
            "25\n",
            "82718061255302767487140869206996285356581211090087890625\n"
          ]
        }
      ]
    },
    {
      "cell_type": "code",
      "source": [
        "# 나머지 값 활용 -> 문제 풀 때 유용하게 사용할 수 있다.\n",
        "\n",
        "# 짝수 홀수 -> 값 % 2 == 0 : 짝수 / 값 % 2 != 0 : 홀수\n",
        "# 배수 약숙 -> 값 % 5 == 0 : 5의 배수\n",
        "\n",
        "# 두 칸씩 이동"
      ],
      "metadata": {
        "id": "gFpgvZLf5QNj"
      },
      "execution_count": null,
      "outputs": []
    },
    {
      "cell_type": "markdown",
      "source": [
        "#### 비교 연산자\n",
        "\n",
        "- \">, <, >=, <=, ==, !=\"\n",
        "- boolean 으로 리턴"
      ],
      "metadata": {
        "id": "JkzseK9k6DD8"
      }
    },
    {
      "cell_type": "code",
      "source": [
        "print(3>0)"
      ],
      "metadata": {
        "colab": {
          "base_uri": "https://localhost:8080/"
        },
        "id": "ZpdoY6Z-6Sql",
        "outputId": "2b148f72-b28e-4e6a-bb4c-efcfae91ace5"
      },
      "execution_count": null,
      "outputs": [
        {
          "output_type": "stream",
          "name": "stdout",
          "text": [
            "True\n"
          ]
        }
      ]
    },
    {
      "cell_type": "code",
      "source": [
        "print(3<0)"
      ],
      "metadata": {
        "colab": {
          "base_uri": "https://localhost:8080/"
        },
        "id": "4p1w_gfA6Vdv",
        "outputId": "d07f0a00-698e-48aa-f187-88304a6a3f5e"
      },
      "execution_count": null,
      "outputs": [
        {
          "output_type": "stream",
          "name": "stdout",
          "text": [
            "False\n"
          ]
        }
      ]
    },
    {
      "cell_type": "code",
      "source": [
        "# 비교연산자 활용\n",
        "\n",
        "# 조건\n",
        "# if 조건(true) :\n",
        "#    참일 때 조건 실행\n",
        "# false\n",
        "\n",
        "# a,b\n",
        "# 가로, 세로 -> 가로 더 큰 경우 16:9"
      ],
      "metadata": {
        "id": "kW3bbpGr6dJ6"
      },
      "execution_count": null,
      "outputs": []
    },
    {
      "cell_type": "markdown",
      "source": [
        "### 논리연산자\n",
        "\n",
        "- and, or, not\n",
        "- boolean 기반으로 이해하기\n",
        "- 값1(true) 값2(false)\n",
        "- and: 그리고 -> 왼쪽값 그리고 오른쪽값 -> 왼쪽값이 true 그리고 오른쪽 값이 true : true\n",
        "\n",
        "- or: 또는 -> 왼쪽값 또는 오른쪽값 -> 왼쪽값이 true이거나 오른쪽 값이 true: true\n",
        "\n",
        "- not: 반대 -> 하나의 값을 부정 -> 값이 true false"
      ],
      "metadata": {
        "id": "iAsm4GlY6_4L"
      }
    },
    {
      "cell_type": "code",
      "source": [
        "# a > 0 (true or false) b < 0 (true or false)"
      ],
      "metadata": {
        "id": "dlQ43gyg6-46"
      },
      "execution_count": null,
      "outputs": []
    },
    {
      "cell_type": "code",
      "source": [
        "# and 연산자\n",
        "# true ture : true\n",
        "# true false : false\n",
        "# false false : false\n",
        "\n",
        "# if 조건1 and 조건2:\n",
        "#  -> 둘 다 참일 때만 이 조건을 실행해주세요."
      ],
      "metadata": {
        "id": "FoqSgWPN7sb4"
      },
      "execution_count": null,
      "outputs": []
    },
    {
      "cell_type": "code",
      "source": [
        "# or 연산자\n",
        "# true true : true\n",
        "# true false: true\n",
        "# false true: true\n",
        "# false false: false\n",
        "\n",
        "# if 조건1 or 조건2:\n",
        "# -> 둘 중 하나라도 참이면 이 조건을 실행해주세요."
      ],
      "metadata": {
        "id": "U_UuHuds8dp-"
      },
      "execution_count": null,
      "outputs": []
    },
    {
      "cell_type": "code",
      "source": [
        "# not\n",
        "# true -> false\n",
        "# false -> true\n",
        "\n",
        "# 유저의 정보가 있을 때, input 조건에 있지 않으면 -> 로그인 불가\n",
        "# if not 조건1:\n",
        "#   -> 조건이 충족되지 않을 때"
      ],
      "metadata": {
        "id": "qA9uFC7F9BZJ"
      },
      "execution_count": null,
      "outputs": []
    },
    {
      "cell_type": "markdown",
      "source": [
        "#### 비트연산자\n",
        "\n",
        "- !! 이진수 진법을 먼저 공부하시고\n",
        "- !! 비트연산 다시 공부해보세요 ~!\n",
        "---\n",
        "\n",
        "- 비트(bit) 단위로 (논리)연산을 할 때 사용\n",
        "\n",
        "- 2진수\n",
        "- 0 0 0 0 1 1 1 1\n",
        "- 0 0 0 1 0 1 0 1\n",
        "\n",
        "- &(and), |(or), ^(xor), ~(not)\n",
        "- >>(오른쪽으로 shift), <<(왼쪽으로 shift)\n",
        "- 0 0 0 0 1 1 1 1\n",
        "- >> 2\n",
        "- 1 1 0 0 0 0 1 1"
      ],
      "metadata": {
        "id": "P5SSgwdY95uZ"
      }
    },
    {
      "cell_type": "code",
      "source": [
        "# and -> &\n",
        "# 0: false, 1: true\n",
        "\n",
        "'''\n",
        "1)0 0 0 0 1 1 1 1\n",
        "2)0 0 0 1 0 1 0 1\n",
        "-----------------\n",
        "  0 0 0 0 0 1 0 1\n",
        "\n",
        "'''"
      ],
      "metadata": {
        "id": "-pygRPD2-YUH"
      },
      "execution_count": null,
      "outputs": []
    },
    {
      "cell_type": "code",
      "source": [
        "# or -> |\n",
        "# 0: false, 1: true\n",
        "\n",
        "'''\n",
        "1)0 0 0 0 1 1 1 1\n",
        "2)0 0 0 1 0 1 0 1\n",
        "-----------------\n",
        "  0 0 0 1 1 1 1 1\n",
        "\n",
        "'''"
      ],
      "metadata": {
        "id": "T6wZPm8y--q8"
      },
      "execution_count": null,
      "outputs": []
    },
    {
      "cell_type": "code",
      "source": [
        "# xor -> ^ : 두 값이 다를 경우 true\n",
        "# 두 값이 같을땐 0 다를땐 1\n",
        "# 0: false, 1: true\n",
        "\n",
        "'''\n",
        "1)0 0 0 0 1 1 1 1\n",
        "2)0 0 0 1 0 1 0 1\n",
        "-----------------\n",
        "  0 0 0 1 1 0 1 0\n",
        "\n",
        "'''"
      ],
      "metadata": {
        "id": "VEkX3qgK_Yze"
      },
      "execution_count": null,
      "outputs": []
    },
    {
      "cell_type": "code",
      "source": [
        "# not -> ~\n",
        "# 0: false, 1: true\n",
        "\n",
        "'''\n",
        "1)0 0 0 0 1 1 1 1\n",
        "-----------------\n",
        "  1 1 1 1 0 0 0 0\n",
        "\n",
        "'''"
      ],
      "metadata": {
        "id": "STmYPBzG_4AB"
      },
      "execution_count": null,
      "outputs": []
    },
    {
      "cell_type": "markdown",
      "source": [
        "### 자주 사용되는 내장함수\n",
        "\n",
        "- sum(): 합계\n",
        "- max(), min(): 최대, 최소\n",
        "- round(): 반올림\n",
        "- abs(): 절대값\n",
        "\n",
        "---\n",
        "- numpy: 파이썬 라이브러리 -> 디테일한 수학적 계산이 가능"
      ],
      "metadata": {
        "id": "B_XZcuU_BGeZ"
      }
    },
    {
      "cell_type": "code",
      "source": [
        "abs(-1)"
      ],
      "metadata": {
        "colab": {
          "base_uri": "https://localhost:8080/"
        },
        "id": "NCfLKCNICN5j",
        "outputId": "e4afe3cf-5ab5-4aeb-9cac-0ae1b2fad07c"
      },
      "execution_count": null,
      "outputs": [
        {
          "output_type": "execute_result",
          "data": {
            "text/plain": [
              "1"
            ]
          },
          "metadata": {},
          "execution_count": 27
        }
      ]
    },
    {
      "cell_type": "code",
      "source": [
        "round(2.6)"
      ],
      "metadata": {
        "colab": {
          "base_uri": "https://localhost:8080/"
        },
        "id": "gDcu1357CPbs",
        "outputId": "e6a3acde-8a14-4863-e8b8-d2f6ebd52297"
      },
      "execution_count": null,
      "outputs": [
        {
          "output_type": "execute_result",
          "data": {
            "text/plain": [
              "3"
            ]
          },
          "metadata": {},
          "execution_count": 31
        }
      ]
    },
    {
      "cell_type": "code",
      "source": [
        "round(-2.6)"
      ],
      "metadata": {
        "colab": {
          "base_uri": "https://localhost:8080/"
        },
        "id": "AHU1K3HaCkTE",
        "outputId": "a8c67c2e-fab9-4c6e-bb00-9310d698d022"
      },
      "execution_count": null,
      "outputs": [
        {
          "output_type": "execute_result",
          "data": {
            "text/plain": [
              "-3"
            ]
          },
          "metadata": {},
          "execution_count": 32
        }
      ]
    },
    {
      "cell_type": "code",
      "source": [
        "# 숫자형 함수 중 많이 사용하는 random\n",
        "import random"
      ],
      "metadata": {
        "id": "ItVsNDlKCm1u"
      },
      "execution_count": null,
      "outputs": []
    },
    {
      "cell_type": "code",
      "source": [
        "# 0과 1사이 랜덤한 숫자를 만들기 -> float형\n",
        "random.random()"
      ],
      "metadata": {
        "colab": {
          "base_uri": "https://localhost:8080/"
        },
        "id": "VEkpcicGC_tG",
        "outputId": "cfb22d23-2dda-4018-fd5c-3d72be9f6c71"
      },
      "execution_count": null,
      "outputs": [
        {
          "output_type": "execute_result",
          "data": {
            "text/plain": [
              "0.6430961307103477"
            ]
          },
          "metadata": {},
          "execution_count": 34
        }
      ]
    },
    {
      "cell_type": "code",
      "source": [
        "# 최소, 최대값 사이에 랜덤한 숫자 만들기 -> float형\n",
        "random.uniform(1,10)"
      ],
      "metadata": {
        "colab": {
          "base_uri": "https://localhost:8080/"
        },
        "id": "s2aipeHlDGAe",
        "outputId": "2b6050f8-9498-4997-baa8-d8a9e84b353f"
      },
      "execution_count": null,
      "outputs": [
        {
          "output_type": "execute_result",
          "data": {
            "text/plain": [
              "3.043055604237988"
            ]
          },
          "metadata": {},
          "execution_count": 35
        }
      ]
    },
    {
      "cell_type": "code",
      "source": [
        "# 최소, 최대값 사이에 랜덤한 숫자 만들기 -> int형\n",
        "random.randint(1,10)"
      ],
      "metadata": {
        "colab": {
          "base_uri": "https://localhost:8080/"
        },
        "id": "I-n21TwDGEWe",
        "outputId": "9d4b0aaf-1071-41b3-9081-8bb1d256b0c4"
      },
      "execution_count": null,
      "outputs": [
        {
          "output_type": "execute_result",
          "data": {
            "text/plain": [
              "1"
            ]
          },
          "metadata": {},
          "execution_count": 36
        }
      ]
    },
    {
      "cell_type": "markdown",
      "source": [
        "## 문자형(str)\n",
        "\n",
        "- \",''\n",
        "- 순서가 있는 시퀀스 자료형\n",
        " - 시퀀스 자료형: Index(인덱스)\n",
        " - 인덱스: 인덱싱, 슬라이싱이 가능"
      ],
      "metadata": {
        "id": "jHQ5L8MiGTK4"
      }
    },
    {
      "cell_type": "code",
      "source": [
        "# 문자열 선언\n",
        "a = 'hello'"
      ],
      "metadata": {
        "id": "vtZFEPbHG8f9"
      },
      "execution_count": null,
      "outputs": []
    },
    {
      "cell_type": "code",
      "source": [
        "# 인덱싱\n",
        "a[0]"
      ],
      "metadata": {
        "colab": {
          "base_uri": "https://localhost:8080/",
          "height": 36
        },
        "id": "-Ubxmg7oHBHy",
        "outputId": "3da859b1-fda9-416e-9ba3-581ee7f8a6a1"
      },
      "execution_count": null,
      "outputs": [
        {
          "output_type": "execute_result",
          "data": {
            "text/plain": [
              "'h'"
            ],
            "application/vnd.google.colaboratory.intrinsic+json": {
              "type": "string"
            }
          },
          "metadata": {},
          "execution_count": 38
        }
      ]
    },
    {
      "cell_type": "code",
      "source": [
        "# 슬라이싱\n",
        "a[0:3]"
      ],
      "metadata": {
        "colab": {
          "base_uri": "https://localhost:8080/",
          "height": 36
        },
        "id": "4Se9rRBvHDDO",
        "outputId": "54806b19-0da2-44e2-ec9c-68d91421d37b"
      },
      "execution_count": null,
      "outputs": [
        {
          "output_type": "execute_result",
          "data": {
            "text/plain": [
              "'hel'"
            ],
            "application/vnd.google.colaboratory.intrinsic+json": {
              "type": "string"
            }
          },
          "metadata": {},
          "execution_count": 40
        }
      ]
    },
    {
      "cell_type": "code",
      "source": [
        "# 인덱싱을 활용하기\n",
        "# 인덱싱을 이용하는 함수를 사용할 수 있다.\n",
        "# index\n",
        "# a = 'hello'\n",
        "a.index('l')"
      ],
      "metadata": {
        "colab": {
          "base_uri": "https://localhost:8080/"
        },
        "id": "mn1FvXjNHM3Y",
        "outputId": "daa02d55-515e-4b45-91e3-28a02183e8ef"
      },
      "execution_count": null,
      "outputs": [
        {
          "output_type": "execute_result",
          "data": {
            "text/plain": [
              "2"
            ]
          },
          "metadata": {},
          "execution_count": 41
        }
      ]
    },
    {
      "cell_type": "markdown",
      "source": [
        "### 문자열 포맷팅\n",
        "\n",
        "- % 포맷팅\n",
        "- format 함수\n",
        "- f-string"
      ],
      "metadata": {
        "id": "NYxKOHYFHjhS"
      }
    },
    {
      "cell_type": "code",
      "source": [
        "# % 포맷팅\n",
        "# %d: 정수, %f: 실수, %s: 문자열\n",
        "\n",
        "n = 10\n",
        "print('%d' % n)"
      ],
      "metadata": {
        "colab": {
          "base_uri": "https://localhost:8080/"
        },
        "id": "1O6FY0ySH0-k",
        "outputId": "7d73e6ef-f7f3-4f1e-81d8-0659c4b80fa6"
      },
      "execution_count": null,
      "outputs": [
        {
          "output_type": "stream",
          "name": "stdout",
          "text": [
            "10\n"
          ]
        }
      ]
    },
    {
      "cell_type": "code",
      "source": [
        "# format 함수\n",
        "\n",
        "\n",
        "print('파이는 {0}.{1}'.format(3,14))"
      ],
      "metadata": {
        "colab": {
          "base_uri": "https://localhost:8080/"
        },
        "id": "oUiEz0qpIEtg",
        "outputId": "4f62e631-264c-443d-dc77-20df5821f589"
      },
      "execution_count": null,
      "outputs": [
        {
          "output_type": "stream",
          "name": "stdout",
          "text": [
            "파이는 3.14\n"
          ]
        }
      ]
    },
    {
      "cell_type": "code",
      "source": [
        "# f-string\n",
        "# python 3.6 이상\n",
        "# 다른 파이썬 버전에서 사용하면 안됩니다.\n",
        "\n",
        "num = 1\n",
        "print(f'오르미 {num}기 입니다.')"
      ],
      "metadata": {
        "colab": {
          "base_uri": "https://localhost:8080/"
        },
        "id": "UlQQVWR0IPuW",
        "outputId": "6bde37cb-0e75-41a5-cc3c-178b1ed46202"
      },
      "execution_count": null,
      "outputs": [
        {
          "output_type": "stream",
          "name": "stdout",
          "text": [
            "오르미 1기 입니다.\n"
          ]
        }
      ]
    },
    {
      "cell_type": "markdown",
      "source": [
        "#### 이스케이프 문자\n",
        "- \\n : 엔터(개행)\n",
        "- \\t : 탭\n",
        "- \\' : 작은 따옴표\n",
        "- \\\" : 큰 따옴표\n",
        "- \\b : 백 스페이스\n",
        "- \\ \\ : 역슬러시 표현\n",
        "\n",
        "여러 줄 내용을 하나의 변수에 표시할 때\n",
        "'나는 \"안녕하세요\"'라고 생각했다.' 말했다.'\n",
        "\"안녕하세요 \\n 반갑습니다.\""
      ],
      "metadata": {
        "id": "DlRgkq6AJATZ"
      }
    },
    {
      "cell_type": "markdown",
      "source": [
        "#### 내장 함수\n",
        "\n",
        "- count(): 안에 있는 문자 갯수 세기\n",
        "- strip(): 양쪽 공백, 특정 문자를 제거\n",
        "- replace(): 어떤 문자를 원하는 문자로 바꿔줄 때\n",
        "- split(): 특정 기준으로 문자열을 쪼개줄 때\n",
        "- join(): 문자열을 합쳐줄 때\n"
      ],
      "metadata": {
        "id": "UAWQxSP-J7xf"
      }
    },
    {
      "cell_type": "code",
      "source": [
        "# 1~10000 까지 있을 때 8이 몇 개 있는가\n",
        "# for if 8 count+ \"\", .count('8')"
      ],
      "metadata": {
        "id": "3q7j_2hBKoX7"
      },
      "execution_count": null,
      "outputs": []
    },
    {
      "cell_type": "code",
      "source": [
        "s = 0\n",
        "for i in range(1,10001):\n",
        "    if '8' in str(i):\n",
        "        s += 1\n",
        "print(s)"
      ],
      "metadata": {
        "id": "J0nZGZ8YLej6",
        "colab": {
          "base_uri": "https://localhost:8080/"
        },
        "outputId": "3489688e-d36d-404a-9e10-f5329ce617b9"
      },
      "execution_count": null,
      "outputs": [
        {
          "output_type": "stream",
          "name": "stdout",
          "text": [
            "3439\n"
          ]
        }
      ]
    },
    {
      "cell_type": "markdown",
      "source": [
        "## Boolean\n",
        "\n",
        "숫자형 연산 부분을 참고해주세요."
      ],
      "metadata": {
        "id": "6wRXkwnGLWFv"
      }
    },
    {
      "cell_type": "markdown",
      "source": [
        "# 자료구조\n",
        "\n",
        "- 리스트, 튜플, 딕셔너리, 셋"
      ],
      "metadata": {
        "id": "bWkl8R6gLigA"
      }
    },
    {
      "cell_type": "markdown",
      "source": [
        "## 리스트 (배열)\n",
        "\n",
        "- 순서를 가진 시퀀스(sequence)형 -> ...\n",
        "- list_a = []\n",
        "- 값 변경이 가능"
      ],
      "metadata": {
        "id": "r8DAxM2tLvSv"
      }
    },
    {
      "cell_type": "code",
      "source": [
        "# 리스트 선언\n",
        "list_a = [1,2,3]"
      ],
      "metadata": {
        "id": "kE1o0iUSLYz4"
      },
      "execution_count": null,
      "outputs": []
    },
    {
      "cell_type": "code",
      "source": [
        "# 인덱싱\n",
        "list_a[0]"
      ],
      "metadata": {
        "colab": {
          "base_uri": "https://localhost:8080/"
        },
        "id": "DNaGLLPMMmUF",
        "outputId": "18c56367-c159-48ce-de7b-203d206272c8"
      },
      "execution_count": null,
      "outputs": [
        {
          "output_type": "execute_result",
          "data": {
            "text/plain": [
              "1"
            ]
          },
          "metadata": {},
          "execution_count": 51
        }
      ]
    },
    {
      "cell_type": "code",
      "source": [
        "# 슬라이싱\n",
        "list_a[0:2]"
      ],
      "metadata": {
        "colab": {
          "base_uri": "https://localhost:8080/"
        },
        "id": "GWLgYwYfMsow",
        "outputId": "3685f1fd-f5c5-4b99-9207-3cc64adfd845"
      },
      "execution_count": null,
      "outputs": [
        {
          "output_type": "execute_result",
          "data": {
            "text/plain": [
              "[1, 2]"
            ]
          },
          "metadata": {},
          "execution_count": 54
        }
      ]
    },
    {
      "cell_type": "markdown",
      "source": [
        "#### 사칙 연산"
      ],
      "metadata": {
        "id": "Q8Ky64G2Mw80"
      }
    },
    {
      "cell_type": "code",
      "source": [
        "list_a = [1,2,3] # -> [2, 4, 6]\n",
        "list_a = list_a + list_a"
      ],
      "metadata": {
        "id": "dlBmzx_QMwDg"
      },
      "execution_count": null,
      "outputs": []
    },
    {
      "cell_type": "code",
      "source": [
        "print(list_a)"
      ],
      "metadata": {
        "colab": {
          "base_uri": "https://localhost:8080/"
        },
        "id": "lFEoRamHM5Ar",
        "outputId": "8a04ff38-99ba-47fb-f088-dfd10090369e"
      },
      "execution_count": null,
      "outputs": [
        {
          "output_type": "stream",
          "name": "stdout",
          "text": [
            "[1, 2, 3, 1, 2, 3]\n"
          ]
        }
      ]
    },
    {
      "cell_type": "code",
      "source": [
        "# for 문을 순회하면서 더하기\n",
        "list_a = [1,2,3]\n",
        "for i in list_a:\n",
        "    print(i*2)\n",
        "# 추가 : numpy\n",
        "# 1차원 2차원 3차원 ...\n",
        "# 다차원 배열 계산에 강점 -> [] + []"
      ],
      "metadata": {
        "colab": {
          "base_uri": "https://localhost:8080/"
        },
        "id": "wc6krkpiNJlX",
        "outputId": "c5db9f3f-b2c9-493b-9f5f-8a4d1b53710e"
      },
      "execution_count": null,
      "outputs": [
        {
          "output_type": "stream",
          "name": "stdout",
          "text": [
            "2\n",
            "4\n",
            "6\n"
          ]
        }
      ]
    },
    {
      "cell_type": "code",
      "source": [
        "list_a + 3\n",
        "# 크기가 맞지 않습니다. -> for문 순회로 각각을 더해주어야 합니다."
      ],
      "metadata": {
        "colab": {
          "base_uri": "https://localhost:8080/",
          "height": 169
        },
        "id": "o5GzGfcdNxtU",
        "outputId": "4b641f4f-02e6-4004-c31d-bfc19ca5b981"
      },
      "execution_count": null,
      "outputs": [
        {
          "output_type": "error",
          "ename": "TypeError",
          "evalue": "ignored",
          "traceback": [
            "\u001b[0;31m---------------------------------------------------------------------------\u001b[0m",
            "\u001b[0;31mTypeError\u001b[0m                                 Traceback (most recent call last)",
            "\u001b[0;32m<ipython-input-61-2e1f6d277084>\u001b[0m in \u001b[0;36m<cell line: 1>\u001b[0;34m()\u001b[0m\n\u001b[0;32m----> 1\u001b[0;31m \u001b[0mlist_a\u001b[0m \u001b[0;34m+\u001b[0m \u001b[0;36m3\u001b[0m\u001b[0;34m\u001b[0m\u001b[0;34m\u001b[0m\u001b[0m\n\u001b[0m",
            "\u001b[0;31mTypeError\u001b[0m: can only concatenate list (not \"int\") to list"
          ]
        }
      ]
    },
    {
      "cell_type": "code",
      "source": [
        "list_a + [3]"
      ],
      "metadata": {
        "colab": {
          "base_uri": "https://localhost:8080/"
        },
        "id": "g3m48RtSN8QC",
        "outputId": "b59b0375-1588-43d8-818a-45e1b019505a"
      },
      "execution_count": null,
      "outputs": [
        {
          "output_type": "execute_result",
          "data": {
            "text/plain": [
              "[1, 2, 3, 1, 2, 3, 3]"
            ]
          },
          "metadata": {},
          "execution_count": 62
        }
      ]
    },
    {
      "cell_type": "code",
      "source": [
        "list_a * 3"
      ],
      "metadata": {
        "colab": {
          "base_uri": "https://localhost:8080/"
        },
        "id": "wHlzM8i7OAt_",
        "outputId": "cc9f5818-5776-4c94-c4d7-9e3ba983128d"
      },
      "execution_count": null,
      "outputs": [
        {
          "output_type": "execute_result",
          "data": {
            "text/plain": [
              "[1, 2, 3, 1, 2, 3, 1, 2, 3, 1, 2, 3, 1, 2, 3, 1, 2, 3]"
            ]
          },
          "metadata": {},
          "execution_count": 63
        }
      ]
    },
    {
      "cell_type": "code",
      "source": [
        "# list_a + list_a -> [][]\n",
        "# list_a + [3]\n",
        "# append\n",
        "\n",
        "li = [1,2]\n",
        "li.append(3)\n",
        "print(li)"
      ],
      "metadata": {
        "colab": {
          "base_uri": "https://localhost:8080/"
        },
        "id": "ou1weSnZOg-D",
        "outputId": "13c51b39-623f-403c-f5c4-bf05f17233b0"
      },
      "execution_count": null,
      "outputs": [
        {
          "output_type": "stream",
          "name": "stdout",
          "text": [
            "[1, 2, 3]\n"
          ]
        }
      ]
    },
    {
      "cell_type": "code",
      "source": [
        "# 값 지우기\n",
        "# .clear()\n",
        "li.clear()\n",
        "print(li)"
      ],
      "metadata": {
        "colab": {
          "base_uri": "https://localhost:8080/"
        },
        "id": "7d87OdRZO5U1",
        "outputId": "e0a15ea6-1acd-4986-f6d4-90809282b084"
      },
      "execution_count": null,
      "outputs": [
        {
          "output_type": "stream",
          "name": "stdout",
          "text": [
            "[]\n"
          ]
        }
      ]
    },
    {
      "cell_type": "code",
      "source": [
        "a = [1,2,3]\n",
        "\n",
        "b = a\n",
        "c = b\n",
        "\n",
        "c[0] = 100\n",
        "print(a)"
      ],
      "metadata": {
        "colab": {
          "base_uri": "https://localhost:8080/"
        },
        "id": "-Q-HhVxEPCo-",
        "outputId": "cafe67e0-5e1d-4e87-d6c5-cb176bba4b2c"
      },
      "execution_count": null,
      "outputs": [
        {
          "output_type": "stream",
          "name": "stdout",
          "text": [
            "[100, 2, 3]\n"
          ]
        }
      ]
    },
    {
      "cell_type": "code",
      "source": [
        "a = [1,2,3]\n",
        "\n",
        "b = a.copy()\n",
        "c = b.copy()\n",
        "\n",
        "c[0] = 1000"
      ],
      "metadata": {
        "colab": {
          "base_uri": "https://localhost:8080/"
        },
        "id": "dUjTob_oPeLN",
        "outputId": "31c84303-1233-4ced-bd7a-130a89cfd113"
      },
      "execution_count": null,
      "outputs": [
        {
          "output_type": "stream",
          "name": "stdout",
          "text": [
            "[1, 2, 3]\n"
          ]
        }
      ]
    },
    {
      "cell_type": "code",
      "source": [
        "print(a)\n",
        "print(b)\n",
        "print(c)"
      ],
      "metadata": {
        "colab": {
          "base_uri": "https://localhost:8080/"
        },
        "id": "teic7OItPkoS",
        "outputId": "06b57588-611b-451a-92c5-f50261d01250"
      },
      "execution_count": null,
      "outputs": [
        {
          "output_type": "stream",
          "name": "stdout",
          "text": [
            "[1, 2, 3]\n",
            "[1, 2, 3]\n",
            "[1000, 2, 3]\n"
          ]
        }
      ]
    },
    {
      "cell_type": "code",
      "source": [
        "# append 하나의 값을 뒤에 추가해줄 때\n",
        "# extend 여러 값들을 추가할 때\n",
        "\n",
        "a.extend([4,5,6])\n",
        "print(a)"
      ],
      "metadata": {
        "colab": {
          "base_uri": "https://localhost:8080/"
        },
        "id": "rxrDTHVePx6R",
        "outputId": "195edc7a-0a32-4c2c-b6aa-f9b859246856"
      },
      "execution_count": null,
      "outputs": [
        {
          "output_type": "stream",
          "name": "stdout",
          "text": [
            "[1, 2, 3, 4, 5, 6]\n"
          ]
        }
      ]
    },
    {
      "cell_type": "code",
      "source": [
        "# append는 리스트 형태로 넣을 수 없다\n",
        "a.append(4,5,6)\n",
        "print(a)"
      ],
      "metadata": {
        "colab": {
          "base_uri": "https://localhost:8080/",
          "height": 205
        },
        "id": "yDcehOqeP-cz",
        "outputId": "6c0e4064-636a-4d3d-eb03-b454a4db7668"
      },
      "execution_count": null,
      "outputs": [
        {
          "output_type": "error",
          "ename": "TypeError",
          "evalue": "ignored",
          "traceback": [
            "\u001b[0;31m---------------------------------------------------------------------------\u001b[0m",
            "\u001b[0;31mTypeError\u001b[0m                                 Traceback (most recent call last)",
            "\u001b[0;32m<ipython-input-78-2ed6bd7dc48f>\u001b[0m in \u001b[0;36m<cell line: 2>\u001b[0;34m()\u001b[0m\n\u001b[1;32m      1\u001b[0m \u001b[0;31m# append는 리스트 형태로 넣을 수 없다\u001b[0m\u001b[0;34m\u001b[0m\u001b[0;34m\u001b[0m\u001b[0m\n\u001b[0;32m----> 2\u001b[0;31m \u001b[0ma\u001b[0m\u001b[0;34m.\u001b[0m\u001b[0mappend\u001b[0m\u001b[0;34m(\u001b[0m\u001b[0;36m4\u001b[0m\u001b[0;34m,\u001b[0m\u001b[0;36m5\u001b[0m\u001b[0;34m,\u001b[0m\u001b[0;36m6\u001b[0m\u001b[0;34m)\u001b[0m\u001b[0;34m\u001b[0m\u001b[0;34m\u001b[0m\u001b[0m\n\u001b[0m\u001b[1;32m      3\u001b[0m \u001b[0mprint\u001b[0m\u001b[0;34m(\u001b[0m\u001b[0ma\u001b[0m\u001b[0;34m)\u001b[0m\u001b[0;34m\u001b[0m\u001b[0;34m\u001b[0m\u001b[0m\n",
            "\u001b[0;31mTypeError\u001b[0m: list.append() takes exactly one argument (3 given)"
          ]
        }
      ]
    },
    {
      "cell_type": "code",
      "source": [],
      "metadata": {
        "id": "SM_R_rGFP-XV"
      },
      "execution_count": null,
      "outputs": []
    }
  ]
}
